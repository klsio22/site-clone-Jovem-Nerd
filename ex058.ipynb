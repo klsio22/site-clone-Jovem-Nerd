{
  "nbformat": 4,
  "nbformat_minor": 0,
  "metadata": {
    "colab": {
      "name": "ex058.ipynb",
      "provenance": [],
      "collapsed_sections": [],
      "include_colab_link": true
    },
    "kernelspec": {
      "name": "python3",
      "display_name": "Python 3"
    }
  },
  "cells": [
    {
      "cell_type": "markdown",
      "metadata": {
        "id": "view-in-github",
        "colab_type": "text"
      },
      "source": [
        "<a href=\"https://colab.research.google.com/github/klsio22/site-clone-Jovem-Nerd/blob/master/ex058.ipynb\" target=\"_parent\"><img src=\"https://colab.research.google.com/assets/colab-badge.svg\" alt=\"Open In Colab\"/></a>"
      ]
    },
    {
      "cell_type": "code",
      "metadata": {
        "id": "jQQPqvvq0UV7",
        "colab_type": "code",
        "colab": {}
      },
      "source": [
        "from random import randint\n",
        "from time import sleep\n",
        "from termcolor import colored\n",
        "\n",
        "print(colored('-=-', 'yellow') * 20)\n",
        "print(' Os números são gerados aleatóriamente entre 0 e 5 ', 'blue')\n",
        "print(colored('-=-', 'yellow') * 20)\n",
        "\n",
        "player = int(input('\\nEscolha um número entre 0 e 5 : '))\n",
        "\n",
        "computer = randint(0, 10)\n",
        "\n",
        "print(colored('Preocessando ...', 'magenta'))\n",
        "sleep(3)\n",
        "\n",
        "if computer == player:\n",
        "    print('\\nParabéns, você acertou, eu escolhi o número {}'.format(computer))\n",
        "else:\n",
        "    print('\\nNão foi dessa vez você errou não é {}, o correto era {}'.format(player, computer))\n"
      ],
      "execution_count": 0,
      "outputs": []
    },
    {
      "cell_type": "markdown",
      "metadata": {
        "id": "IikYUELVijX5",
        "colab_type": "text"
      },
      "source": [
        "Exercício acima é o ex028 do curso de python o que está abaixo e uma versão melhorada: \n"
      ]
    },
    {
      "cell_type": "code",
      "metadata": {
        "id": "QhDxkKeo0xvG",
        "colab_type": "code",
        "colab": {}
      },
      "source": [
        "from random import randint\n",
        "from time import sleep\n",
        "from termcolor import colored\n",
        "\n",
        "print(colored('-=-', 'yellow') * 20)\n",
        "print(' Os números são gerados aleatóriamente entre 0 e 10 ', 'blue')\n",
        "print(colored('-=-', 'yellow') * 20)\n",
        "\n",
        "nJogadas = 0\n",
        "player = 0\n",
        "computer = randint(0, 10)\n",
        "\n",
        "print('Preocessando Números gerados ',end = '')\n",
        "sleep(1)\n",
        "print('.',end = '')\n",
        "sleep(1)\n",
        "print('.',end = '')\n",
        "sleep(1)\n",
        "print('.',end = '')\n",
        "\n",
        "sleep(1)\n",
        "print('\\nEscolha um número entre 0 e 10')\n",
        "sleep(1)\n",
        "\n",
        "while computer != player:\n",
        "    player = int(input('\\nQual o seu palpite ? '))\n",
        "        \n",
        "    if computer > player:\n",
        "        print('Mais... tente outra vez')\n",
        "    if computer < player:\n",
        "        print('menos... tente outra vez')\n",
        "        \n",
        "    nJogadas += 1\n",
        "        \n",
        "else:\n",
        "    print('\\nAcertou com {} tentativas . Parabéns!!!'.format(nJogadas))\n"
      ],
      "execution_count": 0,
      "outputs": []
    }
  ]
}